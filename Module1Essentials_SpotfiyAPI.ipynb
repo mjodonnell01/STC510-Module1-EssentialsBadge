{
 "cells": [
  {
   "cell_type": "markdown",
   "metadata": {},
   "source": []
  },
  {
   "cell_type": "markdown",
   "metadata": {},
   "source": [
    "Documentation I used - \n",
    "\n",
    "From Spotify:\n",
    "https://developer.spotify.com/documentation/web-api\n",
    "\n",
    "From Github:\n",
    "https://github.com/spotipy-dev/spotipy\n",
    "\n",
    "From spotipy.com\n",
    "https://spotipy.readthedocs.io/en/2.22.1/?highlight=recently%20played#"
   ]
  },
  {
   "cell_type": "code",
   "execution_count": 2,
   "metadata": {},
   "outputs": [
    {
     "name": "stdout",
     "output_type": "stream",
     "text": [
      "Requirement already satisfied: spotipy in c:\\users\\micha\\appdata\\local\\programs\\python\\python311\\lib\\site-packages (2.23.0)\n",
      "Requirement already satisfied: redis>=3.5.3 in c:\\users\\micha\\appdata\\local\\programs\\python\\python311\\lib\\site-packages (from spotipy) (5.0.1)\n",
      "Requirement already satisfied: requests>=2.25.0 in c:\\users\\micha\\appdata\\local\\programs\\python\\python311\\lib\\site-packages (from spotipy) (2.31.0)\n",
      "Requirement already satisfied: six>=1.15.0 in c:\\users\\micha\\appdata\\roaming\\python\\python311\\site-packages (from spotipy) (1.16.0)\n",
      "Requirement already satisfied: urllib3>=1.26.0 in c:\\users\\micha\\appdata\\local\\programs\\python\\python311\\lib\\site-packages (from spotipy) (2.1.0)\n",
      "Requirement already satisfied: charset-normalizer<4,>=2 in c:\\users\\micha\\appdata\\local\\programs\\python\\python311\\lib\\site-packages (from requests>=2.25.0->spotipy) (3.3.2)\n",
      "Requirement already satisfied: idna<4,>=2.5 in c:\\users\\micha\\appdata\\local\\programs\\python\\python311\\lib\\site-packages (from requests>=2.25.0->spotipy) (3.6)\n",
      "Requirement already satisfied: certifi>=2017.4.17 in c:\\users\\micha\\appdata\\local\\programs\\python\\python311\\lib\\site-packages (from requests>=2.25.0->spotipy) (2023.11.17)\n",
      "Note: you may need to restart the kernel to use updated packages.\n"
     ]
    },
    {
     "name": "stderr",
     "output_type": "stream",
     "text": [
      "\n",
      "[notice] A new release of pip available: 22.3.1 -> 23.3.2\n",
      "[notice] To update, run: python.exe -m pip install --upgrade pip\n"
     ]
    }
   ],
   "source": [
    "pip install spotipy"
   ]
  },
  {
   "cell_type": "code",
   "execution_count": 58,
   "metadata": {},
   "outputs": [],
   "source": [
    "#import statements\n",
    "import spotipy\n",
    "from spotipy.oauth2 import SpotifyClientCredentials, SpotifyOAuth\n",
    "from datetime import datetime, timedelta"
   ]
  },
  {
   "cell_type": "code",
   "execution_count": 62,
   "metadata": {},
   "outputs": [],
   "source": [
    "# Declaring object that connects to my Spotify account via the API\n",
    "sp = spotipy.Spotify(auth_manager=SpotifyOAuth(client_id=\"9688719c576c42059b40e69169595ccc\",\n",
    "                                               client_secret=\"fe09fac332ec46fc9fe2352cc70324e4\",\n",
    "                                               redirect_uri=\"http://localhost:8080\",\n",
    "                                               scope='user-read-recently-played user-read-playback-state user-top-read'))"
   ]
  },
  {
   "cell_type": "markdown",
   "metadata": {},
   "source": [
    "Was having issues in Colab, it did not want to redirect me to another web page, but saw here \n",
    "\n",
    "https://stackoverflow.com/questions/66364577/spotifyoautherror-error-invalid-request-error-description-code-must-be-supp\n",
    "\n",
    "that I could do it in a local environment. I saw here that I could set the redirect uri to local host in both the code and the dashboard of Spotify for developers\n",
    "\n",
    "https://stackoverflow.com/questions/70938351/spotipy-set-redirect-uri\n",
    "\n",
    "\n"
   ]
  },
  {
   "cell_type": "code",
   "execution_count": 64,
   "metadata": {},
   "outputs": [
    {
     "name": "stdout",
     "output_type": "stream",
     "text": [
      "2024-01-14 04:47:19.173000,Let Down,OK Computer,1997,Radiohead\n",
      "\n",
      "2024-01-14 00:00:50.324000,Exit Music (For A Film),OK Computer,1997,Radiohead\n",
      "\n",
      "2024-01-13 23:46:36.577000,Subterranean Homesick Alien,OK Computer,1997,Radiohead\n",
      "\n",
      "2024-01-13 23:34:17.549000,Paranoid Android,OK Computer,1997,Radiohead\n",
      "\n",
      "2024-01-13 23:27:50.324000,Airbag,OK Computer,1997,Radiohead\n",
      "\n",
      "2024-01-13 22:29:06.891000,jazz funk,rescate lento,2022,Sonic Emerson\n",
      "\n",
      "2024-01-13 22:26:54.715000,sueños pasajeros,rescate lento,2022,Sonic Emerson\n",
      "\n",
      "2024-01-13 22:25:21.593000,Brilliant Noise,Almost Reach the Sun,2014,Trementina\n",
      "\n",
      "2024-01-13 22:23:07.563000,Desvanecer,Todo Lo Que Buscamos Es Desaparecer,2019,Asimov\n",
      "\n",
      "2024-01-13 22:20:42.465000,Evasión,Todo Lo Que Buscamos Es Desaparecer,2019,Asimov\n",
      "\n",
      "2024-01-13 22:15:36.765000,Nada,Todo Lo Que Buscamos Es Desaparecer,2019,Asimov\n",
      "\n",
      "2024-01-13 22:11:49.965000,Furtivo,Todo Lo Que Buscamos Es Desaparecer,2019,Asimov\n",
      "\n",
      "2024-01-13 22:07:47.822000,Olvidados,Todo Lo Que Buscamos Es Desaparecer,2019,Asimov\n",
      "\n",
      "2024-01-13 21:31:39.243000,Tara,Todo Lo Que Buscamos Es Desaparecer,2019,Asimov\n",
      "\n",
      "2024-01-13 21:28:14.390000,Intro,Todo Lo Que Buscamos Es Desaparecer,2019,Asimov\n",
      "\n",
      "2024-01-13 19:56:13.685000,Airbag,OK Computer,1997,Radiohead\n",
      "\n",
      "2024-01-13 18:24:18.903000,Seashore,Nowhere,2016,Leave the Planet\n",
      "\n",
      "2024-01-13 18:18:37.492000,Surrender,Nowhere,2016,Leave the Planet\n",
      "\n",
      "2024-01-13 18:14:57.802000,White Astra,Nowhere,2016,Leave the Planet\n",
      "\n",
      "2024-01-13 18:11:30.106000,Sirius B,Nowhere,2016,Leave the Planet\n",
      "\n",
      "2024-01-13 18:07:07.260000,Forever,Nowhere,2016,Leave the Planet\n",
      "\n",
      "2024-01-13 18:02:12.294000,Desvanecer,Todo Lo Que Buscamos Es Desaparecer,2019,Asimov\n",
      "\n",
      "2024-01-13 17:59:47.188000,Evasión,Todo Lo Que Buscamos Es Desaparecer,2019,Asimov\n",
      "\n",
      "2024-01-13 17:54:41.406000,Nada,Todo Lo Que Buscamos Es Desaparecer,2019,Asimov\n",
      "\n",
      "2024-01-13 17:50:54.607000,Furtivo,Todo Lo Que Buscamos Es Desaparecer,2019,Asimov\n",
      "\n",
      "2024-01-13 17:46:52.469000,Olvidados,Todo Lo Que Buscamos Es Desaparecer,2019,Asimov\n",
      "\n",
      "2024-01-13 17:40:27.769000,Tara,Todo Lo Que Buscamos Es Desaparecer,2019,Asimov\n",
      "\n",
      "2024-01-13 17:37:03.003000,Intro,Todo Lo Que Buscamos Es Desaparecer,2019,Asimov\n",
      "\n",
      "2024-01-13 02:26:49.792000,Brilliant Noise,Almost Reach the Sun,2014,Trementina\n",
      "\n",
      "2024-01-12 22:14:26.939000,Desert Son,Nowhere,2016,Leave the Planet\n",
      "\n",
      "2024-01-12 22:10:45.216000,Seashore,Nowhere,2016,Leave the Planet\n",
      "\n",
      "2024-01-12 22:05:03.812000,Surrender,Nowhere,2016,Leave the Planet\n",
      "\n",
      "2024-01-12 22:01:24.116000,White Astra,Nowhere,2016,Leave the Planet\n",
      "\n",
      "2024-01-12 21:57:56.418000,Sirius B,Nowhere,2016,Leave the Planet\n",
      "\n",
      "2024-01-12 21:53:33.571000,Forever,Nowhere,2016,Leave the Planet\n",
      "\n",
      "2024-01-12 21:00:48.853000,Surrender,Nowhere,2016,Leave the Planet\n",
      "\n",
      "2024-01-12 20:49:57.495000,White Astra,Nowhere,2016,Leave the Planet\n",
      "\n",
      "2024-01-12 20:46:29.795000,Sirius B,Nowhere,2016,Leave the Planet\n",
      "\n",
      "2024-01-12 20:42:06.894000,Forever,Nowhere,2016,Leave the Planet\n",
      "\n",
      "2024-01-12 20:37:07.344000,Si tan solo supiera por qué estoy aquí,Si tan solo supiera por qué estoy aquí,2020,Sonic Emerson\n",
      "\n",
      "2024-01-12 20:36:07.444000,Kurochan,Ese Hijo De Puta Se Mete Vidrio,2022,Mi Mochila Huele A Semen\n",
      "\n",
      "2024-01-12 20:34:25.999000,Desvanecer,Todo Lo Que Buscamos Es Desaparecer,2019,Asimov\n",
      "\n",
      "2024-01-12 20:32:00.794000,Evasión,Todo Lo Que Buscamos Es Desaparecer,2019,Asimov\n",
      "\n",
      "2024-01-12 20:26:55.058000,Nada,Todo Lo Que Buscamos Es Desaparecer,2019,Asimov\n",
      "\n",
      "2024-01-12 20:23:08.266000,Furtivo,Todo Lo Que Buscamos Es Desaparecer,2019,Asimov\n",
      "\n",
      "2024-01-12 20:19:06.089000,Olvidados,Todo Lo Que Buscamos Es Desaparecer,2019,Asimov\n",
      "\n",
      "2024-01-12 20:12:41.369000,Tara,Todo Lo Que Buscamos Es Desaparecer,2019,Asimov\n",
      "\n",
      "2024-01-12 20:09:16.625000,Intro,Todo Lo Que Buscamos Es Desaparecer,2019,Asimov\n",
      "\n",
      "2024-01-12 19:52:21,Evasión,Todo Lo Que Buscamos Es Desaparecer,2019,Asimov\n",
      "\n",
      "2024-01-12 14:22:34.757000,Nada,Todo Lo Que Buscamos Es Desaparecer,2019,Asimov\n",
      "\n"
     ]
    }
   ],
   "source": [
    "recently_played = sp.current_user_recently_played(limit=50, after=None, before=None)\n",
    "\n",
    "# Print the tracks with timestamps\n",
    "for item in recently_played['items']:\n",
    "    \n",
    "    track = item['track']\n",
    "    \n",
    "    # Access the album information\n",
    "    album_name = track['album']['name']\n",
    "    \n",
    "    # Access the release_date information\n",
    "    release_date = track['album']['release_date']\n",
    "    \n",
    "    # Extract the year from the release_date\n",
    "    release_year = str(datetime.strptime(release_date, '%Y-%m-%d').year)\n",
    "    \n",
    "    # Parse the ISO 8601 timestamp with milliseconds\n",
    "    #timestamp = datetime.strptime(item['played_at'], '%Y-%m-%dT%H:%M:%S.%fZ')\n",
    "    \n",
    "    try:\n",
    "        # Try parsing with milliseconds format\n",
    "        timestamp = datetime.strptime(item['played_at'], '%Y-%m-%dT%H:%M:%S.%fZ')\n",
    "    except ValueError:\n",
    "        # If parsing with milliseconds fails, try without milliseconds\n",
    "        timestamp = datetime.strptime(item['played_at'], '%Y-%m-%dT%H:%M:%SZ')\n",
    "    \n",
    "    print(str(timestamp) + ',' + track['name'] + ',' + album_name + ',' + release_year + ',' + track['artists'][0]['name'] + '\\n')"
   ]
  }
 ],
 "metadata": {
  "kernelspec": {
   "display_name": "Python 3",
   "language": "python",
   "name": "python3"
  },
  "language_info": {
   "codemirror_mode": {
    "name": "ipython",
    "version": 3
   },
   "file_extension": ".py",
   "mimetype": "text/x-python",
   "name": "python",
   "nbconvert_exporter": "python",
   "pygments_lexer": "ipython3",
   "version": "3.11.3"
  },
  "orig_nbformat": 4
 },
 "nbformat": 4,
 "nbformat_minor": 2
}
