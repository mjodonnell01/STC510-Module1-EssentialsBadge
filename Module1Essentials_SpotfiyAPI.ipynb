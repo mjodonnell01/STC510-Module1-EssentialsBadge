{
 "cells": [
  {
   "cell_type": "markdown",
   "metadata": {},
   "source": [
    "STC 510 - Module 1 - Essentials\n",
    "\n",
    "Michael O'Donnell\n",
    "\n",
    "This program is desgined to use the Spotify API, spotipy, to gather data from my own Spotify account to store into a CSV file where I could later anaylze the data. The program will collect the 50 most recent songs listened to (I wanted to do more, but 50 is the limit) and store those songs with their timestamp of when they were listened to among other data that gives context to the music.\n",
    "\n",
    "I chose the Spotify API because I love music and have been using Spotify for some time. I had no idea there was an API I could use. This was a nice intro to the API. I used to be a big fan of Spotify Wrapped, but supposedly the idea was stolen from an unpaid intern; so I have since wanted to conduct my own data anaylsis on my listening patterns and this allows me to do so. I look forward to further exploring this. "
   ]
  },
  {
   "cell_type": "markdown",
   "metadata": {},
   "source": [
    "Documentation I used - \n",
    "\n",
    "From Spotify:\n",
    "https://developer.spotify.com/documentation/web-api\n",
    "\n",
    "From Github:\n",
    "https://github.com/spotipy-dev/spotipy\n",
    "\n",
    "From spotipy.com\n",
    "https://spotipy.readthedocs.io/en/2.22.1/?highlight=recently%20played#"
   ]
  },
  {
   "cell_type": "code",
   "execution_count": 5,
   "metadata": {},
   "outputs": [
    {
     "ename": "SyntaxError",
     "evalue": "invalid syntax (2407732446.py, line 2)",
     "output_type": "error",
     "traceback": [
      "\u001b[1;36m  Cell \u001b[1;32mIn[5], line 2\u001b[1;36m\u001b[0m\n\u001b[1;33m    pip install spotipy\u001b[0m\n\u001b[1;37m        ^\u001b[0m\n\u001b[1;31mSyntaxError\u001b[0m\u001b[1;31m:\u001b[0m invalid syntax\n"
     ]
    }
   ],
   "source": [
    "#installs the spotipy API\n",
    "pip install spotipy"
   ]
  },
  {
   "cell_type": "code",
   "execution_count": 6,
   "metadata": {},
   "outputs": [],
   "source": [
    "#import statements\n",
    "import spotipy\n",
    "from spotipy.oauth2 import SpotifyClientCredentials, SpotifyOAuth\n",
    "from datetime import datetime, timedelta"
   ]
  },
  {
   "cell_type": "code",
   "execution_count": 7,
   "metadata": {},
   "outputs": [],
   "source": [
    "#Declaring an object that connects to my Spotify account via the API\n",
    "sp = spotipy.Spotify(auth_manager=SpotifyOAuth(client_id=\"9688719c576c42059b40e69169595ccc\",\n",
    "                                               client_secret=\"fe09fac332ec46fc9fe2352cc70324e4\",\n",
    "                                               redirect_uri=\"http://localhost:8080\",\n",
    "                                               scope='user-read-recently-played user-read-playback-state user-top-read'))"
   ]
  },
  {
   "cell_type": "markdown",
   "metadata": {},
   "source": [
    "Was having issues in Colab, it did not want to redirect me to another web page, but saw here \n",
    "\n",
    "https://stackoverflow.com/questions/66364577/spotifyoautherror-error-invalid-request-error-description-code-must-be-supp\n",
    "\n",
    "that I could do it in a local environment. I saw here that I could set the redirect uri to local host in both the code and the dashboard of Spotify for developers\n",
    "\n",
    "https://stackoverflow.com/questions/70938351/spotipy-set-redirect-uri\n",
    "\n",
    "\n"
   ]
  },
  {
   "cell_type": "markdown",
   "metadata": {},
   "source": [
    "The following block of code will open a file to store the data. A parent for loop will loop through all 50 songs where then variables are set to collect the data I want, which are: time listented to, song name, album name song is from, the year the album came out, and the artist of the song. The code block prints out this data along with storing it into the csv. "
   ]
  },
  {
   "cell_type": "code",
   "execution_count": 8,
   "metadata": {},
   "outputs": [
    {
     "name": "stdout",
     "output_type": "stream",
     "text": [
      "2024-01-14 04:47:19.173000,Let Down,OK Computer,1997,Radiohead\n",
      "\n",
      "2024-01-14 00:00:50.324000,Exit Music (For A Film),OK Computer,1997,Radiohead\n",
      "\n",
      "2024-01-13 23:46:36.577000,Subterranean Homesick Alien,OK Computer,1997,Radiohead\n",
      "\n",
      "2024-01-13 23:34:17.549000,Paranoid Android,OK Computer,1997,Radiohead\n",
      "\n",
      "2024-01-13 23:27:50.324000,Airbag,OK Computer,1997,Radiohead\n",
      "\n",
      "2024-01-13 22:29:06.891000,jazz funk,rescate lento,2022,Sonic Emerson\n",
      "\n",
      "2024-01-13 22:26:54.715000,sueños pasajeros,rescate lento,2022,Sonic Emerson\n",
      "\n",
      "2024-01-13 22:25:21.593000,Brilliant Noise,Almost Reach the Sun,2014,Trementina\n",
      "\n",
      "2024-01-13 22:23:07.563000,Desvanecer,Todo Lo Que Buscamos Es Desaparecer,2019,Asimov\n",
      "\n",
      "2024-01-13 22:20:42.465000,Evasión,Todo Lo Que Buscamos Es Desaparecer,2019,Asimov\n",
      "\n",
      "2024-01-13 22:15:36.765000,Nada,Todo Lo Que Buscamos Es Desaparecer,2019,Asimov\n",
      "\n",
      "2024-01-13 22:11:49.965000,Furtivo,Todo Lo Que Buscamos Es Desaparecer,2019,Asimov\n",
      "\n",
      "2024-01-13 22:07:47.822000,Olvidados,Todo Lo Que Buscamos Es Desaparecer,2019,Asimov\n",
      "\n",
      "2024-01-13 21:31:39.243000,Tara,Todo Lo Que Buscamos Es Desaparecer,2019,Asimov\n",
      "\n",
      "2024-01-13 21:28:14.390000,Intro,Todo Lo Que Buscamos Es Desaparecer,2019,Asimov\n",
      "\n",
      "2024-01-13 19:56:13.685000,Airbag,OK Computer,1997,Radiohead\n",
      "\n",
      "2024-01-13 18:24:18.903000,Seashore,Nowhere,2016,Leave the Planet\n",
      "\n",
      "2024-01-13 18:18:37.492000,Surrender,Nowhere,2016,Leave the Planet\n",
      "\n",
      "2024-01-13 18:14:57.802000,White Astra,Nowhere,2016,Leave the Planet\n",
      "\n",
      "2024-01-13 18:11:30.106000,Sirius B,Nowhere,2016,Leave the Planet\n",
      "\n",
      "2024-01-13 18:07:07.260000,Forever,Nowhere,2016,Leave the Planet\n",
      "\n",
      "2024-01-13 18:02:12.294000,Desvanecer,Todo Lo Que Buscamos Es Desaparecer,2019,Asimov\n",
      "\n",
      "2024-01-13 17:59:47.188000,Evasión,Todo Lo Que Buscamos Es Desaparecer,2019,Asimov\n",
      "\n",
      "2024-01-13 17:54:41.406000,Nada,Todo Lo Que Buscamos Es Desaparecer,2019,Asimov\n",
      "\n",
      "2024-01-13 17:50:54.607000,Furtivo,Todo Lo Que Buscamos Es Desaparecer,2019,Asimov\n",
      "\n",
      "2024-01-13 17:46:52.469000,Olvidados,Todo Lo Que Buscamos Es Desaparecer,2019,Asimov\n",
      "\n",
      "2024-01-13 17:40:27.769000,Tara,Todo Lo Que Buscamos Es Desaparecer,2019,Asimov\n",
      "\n",
      "2024-01-13 17:37:03.003000,Intro,Todo Lo Que Buscamos Es Desaparecer,2019,Asimov\n",
      "\n",
      "2024-01-13 02:26:49.792000,Brilliant Noise,Almost Reach the Sun,2014,Trementina\n",
      "\n",
      "2024-01-12 22:14:26.939000,Desert Son,Nowhere,2016,Leave the Planet\n",
      "\n",
      "2024-01-12 22:10:45.216000,Seashore,Nowhere,2016,Leave the Planet\n",
      "\n",
      "2024-01-12 22:05:03.812000,Surrender,Nowhere,2016,Leave the Planet\n",
      "\n",
      "2024-01-12 22:01:24.116000,White Astra,Nowhere,2016,Leave the Planet\n",
      "\n",
      "2024-01-12 21:57:56.418000,Sirius B,Nowhere,2016,Leave the Planet\n",
      "\n",
      "2024-01-12 21:53:33.571000,Forever,Nowhere,2016,Leave the Planet\n",
      "\n",
      "2024-01-12 21:00:48.853000,Surrender,Nowhere,2016,Leave the Planet\n",
      "\n",
      "2024-01-12 20:49:57.495000,White Astra,Nowhere,2016,Leave the Planet\n",
      "\n",
      "2024-01-12 20:46:29.795000,Sirius B,Nowhere,2016,Leave the Planet\n",
      "\n",
      "2024-01-12 20:42:06.894000,Forever,Nowhere,2016,Leave the Planet\n",
      "\n",
      "2024-01-12 20:37:07.344000,Si tan solo supiera por qué estoy aquí,Si tan solo supiera por qué estoy aquí,2020,Sonic Emerson\n",
      "\n",
      "2024-01-12 20:36:07.444000,Kurochan,Ese Hijo De Puta Se Mete Vidrio,2022,Mi Mochila Huele A Semen\n",
      "\n",
      "2024-01-12 20:34:25.999000,Desvanecer,Todo Lo Que Buscamos Es Desaparecer,2019,Asimov\n",
      "\n",
      "2024-01-12 20:32:00.794000,Evasión,Todo Lo Que Buscamos Es Desaparecer,2019,Asimov\n",
      "\n",
      "2024-01-12 20:26:55.058000,Nada,Todo Lo Que Buscamos Es Desaparecer,2019,Asimov\n",
      "\n",
      "2024-01-12 20:23:08.266000,Furtivo,Todo Lo Que Buscamos Es Desaparecer,2019,Asimov\n",
      "\n",
      "2024-01-12 20:19:06.089000,Olvidados,Todo Lo Que Buscamos Es Desaparecer,2019,Asimov\n",
      "\n",
      "2024-01-12 20:12:41.369000,Tara,Todo Lo Que Buscamos Es Desaparecer,2019,Asimov\n",
      "\n",
      "2024-01-12 20:09:16.625000,Intro,Todo Lo Que Buscamos Es Desaparecer,2019,Asimov\n",
      "\n",
      "2024-01-12 19:52:21,Evasión,Todo Lo Que Buscamos Es Desaparecer,2019,Asimov\n",
      "\n",
      "2024-01-12 14:22:34.757000,Nada,Todo Lo Que Buscamos Es Desaparecer,2019,Asimov\n",
      "\n"
     ]
    }
   ],
   "source": [
    "#Setting a variable that grabs the past 50 songs and the surrounding data that I have listened to\n",
    "recently_played = sp.current_user_recently_played(limit=50, after=None, before=None)\n",
    "\n",
    "#Opens a csv file to store the song data into\n",
    "with open('unit1_badge_essentials_data.csv', 'w') as unit1_badge_essentials_data:\n",
    "    #For loop that goes through each song and its data to be extracted\n",
    "    for item in recently_played['items']:\n",
    "        \n",
    "        #variable that sets the song name\n",
    "        track = item['track']\n",
    "        \n",
    "        #variable that accesses the album name that the song is from\n",
    "        album_name = track['album']['name']\n",
    "        \n",
    "        #variable that gets the albums release year\n",
    "        release_date = track['album']['release_date']\n",
    "        \n",
    "        #uses the datetime module to get the year for the album and sets it a string\n",
    "        release_year = str(datetime.strptime(release_date, '%Y-%m-%d').year)\n",
    "        \n",
    "        # Parse the ISO 8601 timestamp with milliseconds\n",
    "        #timestamp = datetime.strptime(item['played_at'], '%Y-%m-%dT%H:%M:%S.%fZ')\n",
    "        \n",
    "        #Uses a try and except to see the time format the song listened to was listened at.\n",
    "        #Spotify uses an ISO format, so that format was used for parsing the time into datetime format\n",
    "        try:\n",
    "            #tries to parse time with milliseconds\n",
    "            timestamp = datetime.strptime(item['played_at'], '%Y-%m-%dT%H:%M:%S.%fZ')\n",
    "        except ValueError:\n",
    "            #if parsing with milliseconds fails, this trys without milliseconds\n",
    "            timestamp = datetime.strptime(item['played_at'], '%Y-%m-%dT%H:%M:%SZ')\n",
    "        \n",
    "        unit1_badge_essentials_data.write(str(timestamp) + ',' + track['name'] + ',' + album_name + ',' + release_year + ',' + track['artists'][0]['name'] + '\\n')\n",
    "        print(str(timestamp) + ',' + track['name'] + ',' + album_name + ',' + release_year + ',' + track['artists'][0]['name'] + '\\n')"
   ]
  }
 ],
 "metadata": {
  "kernelspec": {
   "display_name": "Python 3",
   "language": "python",
   "name": "python3"
  },
  "language_info": {
   "codemirror_mode": {
    "name": "ipython",
    "version": 3
   },
   "file_extension": ".py",
   "mimetype": "text/x-python",
   "name": "python",
   "nbconvert_exporter": "python",
   "pygments_lexer": "ipython3",
   "version": "3.11.3"
  },
  "orig_nbformat": 4
 },
 "nbformat": 4,
 "nbformat_minor": 2
}
